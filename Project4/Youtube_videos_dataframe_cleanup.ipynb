{
 "cells": [
  {
   "cell_type": "markdown",
   "metadata": {},
   "source": [
    "## Trending Youtube Video Statistic: Data Cleaning and Column Derivation"
   ]
  },
  {
   "cell_type": "markdown",
   "metadata": {},
   "source": [
    "### Derivation of DataFrame from raw datasets"
   ]
  },
  {
   "cell_type": "code",
   "execution_count": 4,
   "metadata": {},
   "outputs": [],
   "source": [
    "import pandas as pd\n",
    "import numpy as np\n",
    "import seaborn as sns\n",
    "import glob\n",
    "import matplotlib.pyplot as plt\n",
    "%matplotlib inline"
   ]
  },
  {
   "cell_type": "code",
   "execution_count": 5,
   "metadata": {},
   "outputs": [],
   "source": [
    "#glob is used to read files in any similar format in the same folder path\n",
    "csv_files = [x for x in glob.glob('../GA_Project4_Draft/*.{}'.format('csv'))]\n",
    "\n",
    "videos = []\n",
    "country_list = []\n",
    "for csv in csv_files:\n",
    "    original_videos = pd.read_csv(csv, index_col=None)\n",
    "    original_videos['country'] = csv[21:23]\n",
    "    country_list.append(csv[21:23])\n",
    "    videos.append(original_videos) #add original_videos (dataframe) into videos (list)\n",
    "\n",
    "all_videos = pd.concat(videos)"
   ]
  },
  {
   "cell_type": "code",
   "execution_count": 6,
   "metadata": {},
   "outputs": [
    {
     "name": "stdout",
     "output_type": "stream",
     "text": [
      "['CA', 'DE', 'FR', 'GB', 'US']\n"
     ]
    }
   ],
   "source": [
    "print(country_list)"
   ]
  },
  {
   "cell_type": "code",
   "execution_count": 7,
   "metadata": {},
   "outputs": [],
   "source": [
    "all_videos1 = all_videos.drop(['thumbnail_link','description'],axis=1)"
   ]
  },
  {
   "cell_type": "code",
   "execution_count": 8,
   "metadata": {},
   "outputs": [],
   "source": [
    "all_videos1['trending_date'] = pd.to_datetime(all_videos1['trending_date'],format='%y.%d.%m')"
   ]
  },
  {
   "cell_type": "code",
   "execution_count": 9,
   "metadata": {},
   "outputs": [],
   "source": [
    "all_videos1['publish_time'] = pd.to_datetime(all_videos1['publish_time'],format='%Y-%m-%dT%H:%M:%S.%fZ')"
   ]
  },
  {
   "cell_type": "code",
   "execution_count": 10,
   "metadata": {},
   "outputs": [],
   "source": [
    "all_videos1.insert(4,'publish_date',all_videos1['publish_time'].dt.date)\n",
    "all_videos1['publish_time'] = all_videos1['publish_time'].dt.time"
   ]
  },
  {
   "cell_type": "code",
   "execution_count": 11,
   "metadata": {},
   "outputs": [],
   "source": [
    "all_videos1['publish_date'] = pd.to_datetime(all_videos1['publish_date'])"
   ]
  },
  {
   "cell_type": "code",
   "execution_count": 12,
   "metadata": {},
   "outputs": [],
   "source": [
    "all_videos1['tags'] = all_videos1['tags'].apply(lambda x: x.replace('\"',''))"
   ]
  },
  {
   "cell_type": "code",
   "execution_count": 13,
   "metadata": {},
   "outputs": [],
   "source": [
    "all_videos1['tags'] = all_videos1['tags'].apply(lambda x: x.replace('/','|'))"
   ]
  },
  {
   "cell_type": "code",
   "execution_count": 14,
   "metadata": {},
   "outputs": [],
   "source": [
    "all_videos1['refined_tags'] = all_videos1.tags.map(lambda x: [i.strip() for i in x.split(\"|\")])\n",
    "#if 'tags' is not a list, need to parse it and convert it into a list\n",
    "#strip will remove selected characters\n",
    "#split will split out Eminen|walk to ['Eminen','walk']"
   ]
  },
  {
   "cell_type": "code",
   "execution_count": 15,
   "metadata": {},
   "outputs": [],
   "source": [
    "all_videos1['number_of_tags'] = all_videos1.refined_tags.apply(len)"
   ]
  },
  {
   "cell_type": "code",
   "execution_count": 16,
   "metadata": {},
   "outputs": [],
   "source": [
    "all_videos1['net_likes_dislikes'] = all_videos1['likes']\n",
    "all_videos1['net_likes_dislikes'] = all_videos1[['net_likes_dislikes']].sub(all_videos1['dislikes'],axis=0)"
   ]
  },
  {
   "cell_type": "code",
   "execution_count": 17,
   "metadata": {},
   "outputs": [],
   "source": [
    "all_videos1['publish_hour'] = all_videos1['publish_time'].astype(str).str[:2]"
   ]
  },
  {
   "cell_type": "code",
   "execution_count": 18,
   "metadata": {},
   "outputs": [],
   "source": [
    "#calculate trend_publish_diff in days\n",
    "all_videos1['trend_publish_diff'] = (all_videos1['trending_date'] - all_videos1['publish_date']).dt.days"
   ]
  },
  {
   "cell_type": "code",
   "execution_count": 19,
   "metadata": {},
   "outputs": [],
   "source": [
    "# create a dictionary of dataframe that is classified by country\n",
    "d = {}\n",
    "for i in range(0,len(country_list)):\n",
    "    d[country_list[i]] = all_videos1[all_videos1.country == country_list[i]]"
   ]
  },
  {
   "cell_type": "code",
   "execution_count": 20,
   "metadata": {},
   "outputs": [],
   "source": [
    "j = {}    \n",
    "for i in country_list:\n",
    "    # (1) groupby video_id and select min trend_publish_diff\n",
    "    idx = d[i].groupby(['video_id'])['trend_publish_diff'].transform(min) == d[i]['trend_publish_diff']\n",
    "    # (2) get the filtered dataframe\n",
    "    j[i] = d[i][idx] #grouped dataframe\n",
    "    # (3) get the series value on trend count based on original dataframe\n",
    "    trend_count = d[i].video_id.value_counts()\n",
    "    # (4) convert series from (3) to dataframe\n",
    "    count_df = pd.DataFrame({'id':trend_count.index,'trend_count':trend_count.values})\n",
    "    # (5) merge (2) and (4)\n",
    "    j[i] = pd.merge(j[i],count_df,how='inner',left_on='video_id',right_on='id')\n",
    "    j[i].drop(['id'],axis=1,inplace=True)"
   ]
  },
  {
   "cell_type": "code",
   "execution_count": 21,
   "metadata": {},
   "outputs": [
    {
     "data": {
      "text/html": [
       "<div>\n",
       "<style scoped>\n",
       "    .dataframe tbody tr th:only-of-type {\n",
       "        vertical-align: middle;\n",
       "    }\n",
       "\n",
       "    .dataframe tbody tr th {\n",
       "        vertical-align: top;\n",
       "    }\n",
       "\n",
       "    .dataframe thead th {\n",
       "        text-align: right;\n",
       "    }\n",
       "</style>\n",
       "<table border=\"1\" class=\"dataframe\">\n",
       "  <thead>\n",
       "    <tr style=\"text-align: right;\">\n",
       "      <th></th>\n",
       "      <th>video_id</th>\n",
       "      <th>trending_date</th>\n",
       "      <th>title</th>\n",
       "      <th>channel_title</th>\n",
       "      <th>publish_date</th>\n",
       "      <th>category_id</th>\n",
       "      <th>publish_time</th>\n",
       "      <th>tags</th>\n",
       "      <th>views</th>\n",
       "      <th>likes</th>\n",
       "      <th>...</th>\n",
       "      <th>comments_disabled</th>\n",
       "      <th>ratings_disabled</th>\n",
       "      <th>video_error_or_removed</th>\n",
       "      <th>country</th>\n",
       "      <th>refined_tags</th>\n",
       "      <th>number_of_tags</th>\n",
       "      <th>net_likes_dislikes</th>\n",
       "      <th>publish_hour</th>\n",
       "      <th>trend_publish_diff</th>\n",
       "      <th>trend_count</th>\n",
       "    </tr>\n",
       "  </thead>\n",
       "  <tbody>\n",
       "    <tr>\n",
       "      <th>0</th>\n",
       "      <td>n1WpP7iowLc</td>\n",
       "      <td>2017-11-14</td>\n",
       "      <td>Eminem - Walk On Water (Audio) ft. Beyoncé</td>\n",
       "      <td>EminemVEVO</td>\n",
       "      <td>2017-11-10</td>\n",
       "      <td>10</td>\n",
       "      <td>17:00:03</td>\n",
       "      <td>Eminem|Walk|On|Water|Aftermath|Shady|Interscop...</td>\n",
       "      <td>17158579</td>\n",
       "      <td>787425</td>\n",
       "      <td>...</td>\n",
       "      <td>False</td>\n",
       "      <td>False</td>\n",
       "      <td>False</td>\n",
       "      <td>CA</td>\n",
       "      <td>[Eminem, Walk, On, Water, Aftermath, Shady, In...</td>\n",
       "      <td>8</td>\n",
       "      <td>744005</td>\n",
       "      <td>17</td>\n",
       "      <td>4</td>\n",
       "      <td>4</td>\n",
       "    </tr>\n",
       "    <tr>\n",
       "      <th>1</th>\n",
       "      <td>0dBIkQ4Mz1M</td>\n",
       "      <td>2017-11-14</td>\n",
       "      <td>PLUSH - Bad Unboxing Fan Mail</td>\n",
       "      <td>iDubbbzTV</td>\n",
       "      <td>2017-11-13</td>\n",
       "      <td>23</td>\n",
       "      <td>17:00:00</td>\n",
       "      <td>plush|bad unboxing|unboxing|fan mail|idubbbztv...</td>\n",
       "      <td>1014651</td>\n",
       "      <td>127794</td>\n",
       "      <td>...</td>\n",
       "      <td>False</td>\n",
       "      <td>False</td>\n",
       "      <td>False</td>\n",
       "      <td>CA</td>\n",
       "      <td>[plush, bad unboxing, unboxing, fan mail, idub...</td>\n",
       "      <td>11</td>\n",
       "      <td>126106</td>\n",
       "      <td>17</td>\n",
       "      <td>1</td>\n",
       "      <td>5</td>\n",
       "    </tr>\n",
       "    <tr>\n",
       "      <th>2</th>\n",
       "      <td>5qpjK5DgCt4</td>\n",
       "      <td>2017-11-14</td>\n",
       "      <td>Racist Superman | Rudy Mancuso, King Bach &amp; Le...</td>\n",
       "      <td>Rudy Mancuso</td>\n",
       "      <td>2017-11-12</td>\n",
       "      <td>23</td>\n",
       "      <td>19:05:24</td>\n",
       "      <td>racist superman|rudy|mancuso|king|bach|racist|...</td>\n",
       "      <td>3191434</td>\n",
       "      <td>146035</td>\n",
       "      <td>...</td>\n",
       "      <td>False</td>\n",
       "      <td>False</td>\n",
       "      <td>False</td>\n",
       "      <td>CA</td>\n",
       "      <td>[racist superman, rudy, mancuso, king, bach, r...</td>\n",
       "      <td>23</td>\n",
       "      <td>140696</td>\n",
       "      <td>19</td>\n",
       "      <td>2</td>\n",
       "      <td>4</td>\n",
       "    </tr>\n",
       "    <tr>\n",
       "      <th>3</th>\n",
       "      <td>d380meD0W0M</td>\n",
       "      <td>2017-11-14</td>\n",
       "      <td>I Dare You: GOING BALD!?</td>\n",
       "      <td>nigahiga</td>\n",
       "      <td>2017-11-12</td>\n",
       "      <td>24</td>\n",
       "      <td>18:01:41</td>\n",
       "      <td>ryan|higa|higatv|nigahiga|i dare you|idy|rhpc|...</td>\n",
       "      <td>2095828</td>\n",
       "      <td>132239</td>\n",
       "      <td>...</td>\n",
       "      <td>False</td>\n",
       "      <td>False</td>\n",
       "      <td>False</td>\n",
       "      <td>CA</td>\n",
       "      <td>[ryan, higa, higatv, nigahiga, i dare you, idy...</td>\n",
       "      <td>14</td>\n",
       "      <td>130250</td>\n",
       "      <td>18</td>\n",
       "      <td>2</td>\n",
       "      <td>4</td>\n",
       "    </tr>\n",
       "    <tr>\n",
       "      <th>4</th>\n",
       "      <td>2Vv-BfVoq4g</td>\n",
       "      <td>2017-11-14</td>\n",
       "      <td>Ed Sheeran - Perfect (Official Music Video)</td>\n",
       "      <td>Ed Sheeran</td>\n",
       "      <td>2017-11-09</td>\n",
       "      <td>10</td>\n",
       "      <td>11:04:14</td>\n",
       "      <td>edsheeran|ed sheeran|acoustic|live|cover|offic...</td>\n",
       "      <td>33523622</td>\n",
       "      <td>1634130</td>\n",
       "      <td>...</td>\n",
       "      <td>False</td>\n",
       "      <td>False</td>\n",
       "      <td>False</td>\n",
       "      <td>CA</td>\n",
       "      <td>[edsheeran, ed sheeran, acoustic, live, cover,...</td>\n",
       "      <td>10</td>\n",
       "      <td>1613048</td>\n",
       "      <td>11</td>\n",
       "      <td>5</td>\n",
       "      <td>2</td>\n",
       "    </tr>\n",
       "  </tbody>\n",
       "</table>\n",
       "<p>5 rows × 22 columns</p>\n",
       "</div>"
      ],
      "text/plain": [
       "      video_id trending_date  \\\n",
       "0  n1WpP7iowLc    2017-11-14   \n",
       "1  0dBIkQ4Mz1M    2017-11-14   \n",
       "2  5qpjK5DgCt4    2017-11-14   \n",
       "3  d380meD0W0M    2017-11-14   \n",
       "4  2Vv-BfVoq4g    2017-11-14   \n",
       "\n",
       "                                               title channel_title  \\\n",
       "0         Eminem - Walk On Water (Audio) ft. Beyoncé    EminemVEVO   \n",
       "1                      PLUSH - Bad Unboxing Fan Mail     iDubbbzTV   \n",
       "2  Racist Superman | Rudy Mancuso, King Bach & Le...  Rudy Mancuso   \n",
       "3                           I Dare You: GOING BALD!?      nigahiga   \n",
       "4        Ed Sheeran - Perfect (Official Music Video)    Ed Sheeran   \n",
       "\n",
       "  publish_date  category_id publish_time  \\\n",
       "0   2017-11-10           10     17:00:03   \n",
       "1   2017-11-13           23     17:00:00   \n",
       "2   2017-11-12           23     19:05:24   \n",
       "3   2017-11-12           24     18:01:41   \n",
       "4   2017-11-09           10     11:04:14   \n",
       "\n",
       "                                                tags     views    likes  \\\n",
       "0  Eminem|Walk|On|Water|Aftermath|Shady|Interscop...  17158579   787425   \n",
       "1  plush|bad unboxing|unboxing|fan mail|idubbbztv...   1014651   127794   \n",
       "2  racist superman|rudy|mancuso|king|bach|racist|...   3191434   146035   \n",
       "3  ryan|higa|higatv|nigahiga|i dare you|idy|rhpc|...   2095828   132239   \n",
       "4  edsheeran|ed sheeran|acoustic|live|cover|offic...  33523622  1634130   \n",
       "\n",
       "      ...      comments_disabled  ratings_disabled  video_error_or_removed  \\\n",
       "0     ...                  False             False                   False   \n",
       "1     ...                  False             False                   False   \n",
       "2     ...                  False             False                   False   \n",
       "3     ...                  False             False                   False   \n",
       "4     ...                  False             False                   False   \n",
       "\n",
       "   country                                       refined_tags number_of_tags  \\\n",
       "0       CA  [Eminem, Walk, On, Water, Aftermath, Shady, In...              8   \n",
       "1       CA  [plush, bad unboxing, unboxing, fan mail, idub...             11   \n",
       "2       CA  [racist superman, rudy, mancuso, king, bach, r...             23   \n",
       "3       CA  [ryan, higa, higatv, nigahiga, i dare you, idy...             14   \n",
       "4       CA  [edsheeran, ed sheeran, acoustic, live, cover,...             10   \n",
       "\n",
       "  net_likes_dislikes  publish_hour  trend_publish_diff trend_count  \n",
       "0             744005            17                   4           4  \n",
       "1             126106            17                   1           5  \n",
       "2             140696            19                   2           4  \n",
       "3             130250            18                   2           4  \n",
       "4            1613048            11                   5           2  \n",
       "\n",
       "[5 rows x 22 columns]"
      ]
     },
     "execution_count": 21,
     "metadata": {},
     "output_type": "execute_result"
    }
   ],
   "source": [
    "videos_byregion = []\n",
    "for i in country_list:\n",
    "    all_videos3 = pd.DataFrame.from_dict(j[i])\n",
    "    videos_byregion.append(all_videos3)\n",
    "\n",
    "final_videos = pd.concat(videos_byregion)\n",
    "final_videos.head()"
   ]
  },
  {
   "cell_type": "code",
   "execution_count": 22,
   "metadata": {},
   "outputs": [
    {
     "name": "stdout",
     "output_type": "stream",
     "text": [
      "<class 'pandas.core.frame.DataFrame'>\n",
      "Int64Index: 94327 entries, 0 to 6374\n",
      "Data columns (total 22 columns):\n",
      "video_id                  94327 non-null object\n",
      "trending_date             94327 non-null datetime64[ns]\n",
      "title                     94327 non-null object\n",
      "channel_title             94327 non-null object\n",
      "publish_date              94327 non-null datetime64[ns]\n",
      "category_id               94327 non-null int64\n",
      "publish_time              94327 non-null object\n",
      "tags                      94327 non-null object\n",
      "views                     94327 non-null int64\n",
      "likes                     94327 non-null int64\n",
      "dislikes                  94327 non-null int64\n",
      "comment_count             94327 non-null int64\n",
      "comments_disabled         94327 non-null bool\n",
      "ratings_disabled          94327 non-null bool\n",
      "video_error_or_removed    94327 non-null bool\n",
      "country                   94327 non-null object\n",
      "refined_tags              94327 non-null object\n",
      "number_of_tags            94327 non-null int64\n",
      "net_likes_dislikes        94327 non-null int64\n",
      "publish_hour              94327 non-null object\n",
      "trend_publish_diff        94327 non-null int64\n",
      "trend_count               94327 non-null int64\n",
      "dtypes: bool(3), datetime64[ns](2), int64(9), object(8)\n",
      "memory usage: 14.7+ MB\n"
     ]
    }
   ],
   "source": [
    "final_videos.info()"
   ]
  },
  {
   "cell_type": "code",
   "execution_count": 23,
   "metadata": {},
   "outputs": [],
   "source": [
    "# all_videos1 dataframe has all rows and columns with all data cleaned up\n",
    "df1 = pd.DataFrame(all_videos1)\n",
    "df1.to_csv('all_videos1.csv')"
   ]
  },
  {
   "cell_type": "code",
   "execution_count": 24,
   "metadata": {},
   "outputs": [],
   "source": [
    "# final_videos is grouped by country with the row of video id that get trended in the shortest period of time from publish date\n",
    "df2 = pd.DataFrame(final_videos)\n",
    "df2.to_csv('final_videos.csv')"
   ]
  },
  {
   "cell_type": "code",
   "execution_count": null,
   "metadata": {},
   "outputs": [],
   "source": []
  }
 ],
 "metadata": {
  "kernelspec": {
   "display_name": "Python 3",
   "language": "python",
   "name": "python3"
  },
  "language_info": {
   "codemirror_mode": {
    "name": "ipython",
    "version": 3
   },
   "file_extension": ".py",
   "mimetype": "text/x-python",
   "name": "python",
   "nbconvert_exporter": "python",
   "pygments_lexer": "ipython3",
   "version": "3.6.4"
  }
 },
 "nbformat": 4,
 "nbformat_minor": 2
}
